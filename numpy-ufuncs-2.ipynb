{
 "cells": [
  {
   "cell_type": "markdown",
   "id": "a801c698",
   "metadata": {},
   "source": [
    "The divmod() function return both the quotient and the the mod. The return value is two arrays, the first array contains the quotient and second array contains the mod."
   ]
  },
  {
   "cell_type": "code",
   "execution_count": 1,
   "id": "223f4ec1",
   "metadata": {},
   "outputs": [
    {
     "name": "stdout",
     "output_type": "stream",
     "text": [
      "(array([ 3,  2,  3,  5, 25,  1], dtype=int32), array([ 1,  6,  3,  0,  0, 27], dtype=int32))\n"
     ]
    }
   ],
   "source": [
    "import numpy as np\n",
    "\n",
    "arr1 = np.array([10, 20, 30, 40, 50, 60])\n",
    "arr2 = np.array([3, 7, 9, 8, 2, 33])\n",
    "\n",
    "newarr = np.divmod(arr1, arr2)\n",
    "\n",
    "print(newarr) "
   ]
  },
  {
   "cell_type": "markdown",
   "id": "31034a9c",
   "metadata": {},
   "source": [
    "Both the absolute() and the abs() functions functions do the same absolute operation element-wise but we should use absolute() to avoid confusion with python's inbuilt math.abs()"
   ]
  },
  {
   "cell_type": "code",
   "execution_count": 2,
   "id": "6acafb6b",
   "metadata": {},
   "outputs": [
    {
     "name": "stdout",
     "output_type": "stream",
     "text": [
      "[1 2 1 2 3 4]\n"
     ]
    }
   ],
   "source": [
    "\n",
    "arr2 = np.array([-1, -2, 1, 2, 3, -4])\n",
    "\n",
    "newarr2 = np.absolute(arr2)\n",
    "\n",
    "print(newarr2) "
   ]
  },
  {
   "cell_type": "markdown",
   "id": "d2b5472a",
   "metadata": {},
   "source": [
    "There are primarily five ways of rounding off decimals in NumPy:\n",
    "\n",
    "    truncation\n",
    "    fix\n",
    "    rounding\n",
    "    floor\n",
    "    ceil\n",
    "\n"
   ]
  },
  {
   "cell_type": "markdown",
   "id": "785918f8",
   "metadata": {},
   "source": [
    "Remove the decimals, and return the float number closest to zero. Use the trunc() and fix() functions"
   ]
  },
  {
   "cell_type": "code",
   "execution_count": 3,
   "id": "916b3cae",
   "metadata": {},
   "outputs": [
    {
     "name": "stdout",
     "output_type": "stream",
     "text": [
      "[-3.  3.]\n"
     ]
    }
   ],
   "source": [
    "\n",
    "arr3 = np.trunc([-3.1666, 3.6667])\n",
    "\n",
    "print(arr3) "
   ]
  },
  {
   "cell_type": "code",
   "execution_count": 4,
   "id": "3948de79",
   "metadata": {},
   "outputs": [
    {
     "name": "stdout",
     "output_type": "stream",
     "text": [
      "[-3.  3.]\n"
     ]
    }
   ],
   "source": [
    "arr4 = np.fix([-3.1666, 3.6667])\n",
    "\n",
    "print(arr4) "
   ]
  },
  {
   "cell_type": "markdown",
   "id": "c7a8523e",
   "metadata": {},
   "source": [
    "The around() function increments preceding digit or decimal by 1 if >=5 else do nothing."
   ]
  },
  {
   "cell_type": "code",
   "execution_count": 9,
   "id": "0bc1052b",
   "metadata": {},
   "outputs": [
    {
     "name": "stdout",
     "output_type": "stream",
     "text": [
      "3.17\n",
      "6.167\n",
      "4.7\n"
     ]
    }
   ],
   "source": [
    "arr5 = np.around(3.1666, 2)\n",
    "arr6 = np.around(6.1666, 3)\n",
    "arr7 = np.around(4.724, 1)\n",
    "\n",
    "\n",
    "print(arr5)\n",
    "print(arr6)\n",
    "print(arr7)"
   ]
  },
  {
   "cell_type": "markdown",
   "id": "3635648d",
   "metadata": {},
   "source": [
    "The floor() function rounds off decimal to nearest lower integer (not 0, for that trunc or fix can be used)."
   ]
  },
  {
   "cell_type": "code",
   "execution_count": 10,
   "id": "419e303e",
   "metadata": {},
   "outputs": [
    {
     "name": "stdout",
     "output_type": "stream",
     "text": [
      "[-4.  3.]\n"
     ]
    }
   ],
   "source": [
    "arr8 = np.floor([-3.1666, 3.6667])\n",
    "\n",
    "print(arr8) "
   ]
  },
  {
   "cell_type": "markdown",
   "id": "440fdbfe",
   "metadata": {},
   "source": [
    "The ceil() function rounds off decimal to nearest upper integer."
   ]
  },
  {
   "cell_type": "code",
   "execution_count": 11,
   "id": "7f555e92",
   "metadata": {},
   "outputs": [
    {
     "name": "stdout",
     "output_type": "stream",
     "text": [
      "[-3.  4.]\n"
     ]
    }
   ],
   "source": [
    "arr9 = np.ceil([-3.1666, 3.6667])\n",
    "\n",
    "print(arr9) "
   ]
  },
  {
   "cell_type": "markdown",
   "id": "242d226d",
   "metadata": {},
   "source": [
    "# logs"
   ]
  },
  {
   "cell_type": "markdown",
   "id": "804f63a7",
   "metadata": {},
   "source": [
    "NumPy provides functions to perform log at the base 2, e and 10."
   ]
  },
  {
   "cell_type": "code",
   "execution_count": 15,
   "id": "7df6e4c0",
   "metadata": {},
   "outputs": [
    {
     "name": "stdout",
     "output_type": "stream",
     "text": [
      "[0.         1.         1.5849625  2.         2.32192809 2.5849625\n",
      " 2.80735492 3.         3.169925  ]\n",
      "[1.         1.5849625  2.         2.32192809 2.5849625  2.80735492\n",
      " 3.         3.169925  ]\n"
     ]
    }
   ],
   "source": [
    "# Find log at base 2 of all elements of following array:\n",
    "\n",
    "# The arange(1, 10) function returns an array with integers starting from 1 (included) to 10 (not included)\n",
    "\n",
    "arr10 = np.arange(1, 10)\n",
    "arr11 = np.arange(2, 10)\n",
    "\n",
    "print(np.log2(arr10)) \n",
    "print(np.log2(arr11))"
   ]
  },
  {
   "cell_type": "markdown",
   "id": "fe621d39",
   "metadata": {},
   "source": [
    "Use the log10() function to perform log at the base 10."
   ]
  },
  {
   "cell_type": "code",
   "execution_count": 17,
   "id": "9f8201e2",
   "metadata": {},
   "outputs": [
    {
     "name": "stdout",
     "output_type": "stream",
     "text": [
      "arr11 ==> [1 2 3 4 5 6 7 8 9]\n",
      "[0.         0.30103    0.47712125 0.60205999 0.69897    0.77815125\n",
      " 0.84509804 0.90308999 0.95424251]\n"
     ]
    }
   ],
   "source": [
    "arr11 = np.arange(1, 10)\n",
    "print(\"arr11 ==>\", arr11)\n",
    "print(np.log10(arr11))"
   ]
  },
  {
   "cell_type": "markdown",
   "id": "083cd0f9",
   "metadata": {},
   "source": [
    "Use the log() function to perform log at the base e."
   ]
  },
  {
   "cell_type": "code",
   "execution_count": 18,
   "id": "5a30c0a0",
   "metadata": {},
   "outputs": [
    {
     "name": "stdout",
     "output_type": "stream",
     "text": [
      "[0.         0.69314718 1.09861229 1.38629436 1.60943791 1.79175947\n",
      " 1.94591015 2.07944154 2.19722458]\n"
     ]
    }
   ],
   "source": [
    "arr12 = np.arange(1, 10)\n",
    "\n",
    "print(np.log(arr12)) "
   ]
  },
  {
   "cell_type": "code",
   "execution_count": 19,
   "id": "1489835c",
   "metadata": {},
   "outputs": [
    {
     "name": "stdout",
     "output_type": "stream",
     "text": [
      "<ufunc 'log (vectorized)'>\n",
      "1.7005483074552052\n"
     ]
    }
   ],
   "source": [
    " from math import log\n",
    "# NumPy does not provide any function to take log at any base, so we can use the frompyfunc() function along with inbuilt\n",
    "# function math.log() with two input parameters and one output parameter:   \n",
    "nplog = np.frompyfunc(log, 2, 1)\n",
    "\n",
    "print(nplog)\n",
    "print(nplog(100, 15)) "
   ]
  },
  {
   "cell_type": "markdown",
   "id": "e38810ee",
   "metadata": {},
   "source": [
    "# Summations"
   ]
  },
  {
   "cell_type": "markdown",
   "id": "b215bbfd",
   "metadata": {},
   "source": [
    "Addition is done between two arguments whereas summation happens over n elements."
   ]
  },
  {
   "cell_type": "code",
   "execution_count": 25,
   "id": "8bf37fcf",
   "metadata": {},
   "outputs": [
    {
     "name": "stdout",
     "output_type": "stream",
     "text": [
      "12\n",
      "[2 4 6]\n"
     ]
    }
   ],
   "source": [
    "arr13 = np.array([1, 2, 3])\n",
    "arr14 = np.array([1, 2, 3])\n",
    "\n",
    "newarr3 = np.add(arr13, arr14)\n",
    "\n",
    "# don't forget to use square brackets when using sum\n",
    "newarr4 = np.sum([arr13, arr14])\n",
    "\n",
    "print(newarr4)\n",
    "print(newarr3) "
   ]
  },
  {
   "cell_type": "markdown",
   "id": "995daea0",
   "metadata": {},
   "source": [
    "Summation over an axis"
   ]
  },
  {
   "cell_type": "code",
   "execution_count": 26,
   "id": "332c4947",
   "metadata": {},
   "outputs": [
    {
     "name": "stdout",
     "output_type": "stream",
     "text": [
      "[6 6]\n"
     ]
    }
   ],
   "source": [
    "newarr5 = np.sum([arr13, arr14], axis=1)\n",
    "\n",
    "print(newarr5)"
   ]
  },
  {
   "cell_type": "markdown",
   "id": "3c29c855",
   "metadata": {},
   "source": [
    "Cummulative sum"
   ]
  },
  {
   "cell_type": "code",
   "execution_count": 27,
   "id": "8dcb8995",
   "metadata": {},
   "outputs": [
    {
     "name": "stdout",
     "output_type": "stream",
     "text": [
      "[1 3 6]\n"
     ]
    }
   ],
   "source": [
    "# The partial sum of [1, 2, 3, 4] would be [1, 1+2, 1+2+3, 1+2+3+4] = [1, 3, 6, 10], an example\n",
    "\n",
    "# performing partial sum with cumsum() method\n",
    "\n",
    "arr15 = np.array([1, 2, 3])\n",
    "\n",
    "newarr6 = np.cumsum(arr15)\n",
    "\n",
    "print(newarr6) "
   ]
  },
  {
   "cell_type": "markdown",
   "id": "7eba3542",
   "metadata": {},
   "source": [
    "# Products"
   ]
  },
  {
   "cell_type": "code",
   "execution_count": 29,
   "id": "8530170f",
   "metadata": {},
   "outputs": [
    {
     "name": "stdout",
     "output_type": "stream",
     "text": [
      "24  ==> Returns: 24 because 1*2*3*4 = 24\n"
     ]
    }
   ],
   "source": [
    "# To find the product of the elements in an array, use the prod() function.\n",
    "arr16 = np.array([1, 2, 3, 4])\n",
    "\n",
    "x = np.prod(arr16)\n",
    "\n",
    "print(x, \" ==> Returns: 24 because 1*2*3*4 = 24\") "
   ]
  },
  {
   "cell_type": "code",
   "execution_count": 31,
   "id": "6b8189f0",
   "metadata": {},
   "outputs": [
    {
     "name": "stdout",
     "output_type": "stream",
     "text": [
      "40320  ==> 40320 because 1*2*3*4*5*6*7*8 = 40320\n"
     ]
    }
   ],
   "source": [
    "arr16 = np.array([1, 2, 3, 4])\n",
    "arr17 = np.array([5, 6, 7, 8])\n",
    "\n",
    "x2 = np.prod([arr16, arr17])\n",
    "\n",
    "print(x2, \" ==> 40320 because 1*2*3*4*5*6*7*8 = 40320\") "
   ]
  },
  {
   "cell_type": "markdown",
   "id": "addc8377",
   "metadata": {},
   "source": [
    "Product over an axis"
   ]
  },
  {
   "cell_type": "code",
   "execution_count": 33,
   "id": "27ae1b6a",
   "metadata": {},
   "outputs": [
    {
     "name": "stdout",
     "output_type": "stream",
     "text": [
      "[  24 1680]\n"
     ]
    }
   ],
   "source": [
    "# If you specify axis=1, NumPy will return the product of each array.\n",
    "# Perform summation in the following array over 1st axis\n",
    "\n",
    "newarr7 = np.prod([arr16, arr17], axis=1)\n",
    "\n",
    "print(newarr7) "
   ]
  },
  {
   "cell_type": "markdown",
   "id": "4a817cad",
   "metadata": {},
   "source": [
    "Cummulative Product"
   ]
  },
  {
   "cell_type": "code",
   "execution_count": 34,
   "id": "fad490f8",
   "metadata": {},
   "outputs": [
    {
     "name": "stdout",
     "output_type": "stream",
     "text": [
      "[   5   30  210 1680]\n"
     ]
    }
   ],
   "source": [
    "# Cummulative product means taking the product partially, using both partial and product.\n",
    "\n",
    "# E.g. The partial product of [1, 2, 3, 4] is [1, 1*2, 1*2*3, 1*2*3*4] = [1, 2, 6, 24]\n",
    "\n",
    "arr18 = np.array([5, 6, 7, 8])\n",
    "\n",
    "newarr8 = np.cumprod(arr18)\n",
    "\n",
    "print(newarr8) "
   ]
  },
  {
   "cell_type": "markdown",
   "id": "a14520e9",
   "metadata": {},
   "source": [
    "# Differences\n"
   ]
  },
  {
   "cell_type": "markdown",
   "id": "54480c1f",
   "metadata": {},
   "source": [
    "A discrete difference means subtracting two successive elements.\n",
    "\n",
    "E.g. for [1, 2, 3, 4], the discrete difference would be [2-1, 3-2, 4-3] = [1, 1, 1]\n",
    "\n",
    "To find the discrete difference, use the diff() function.\n"
   ]
  },
  {
   "cell_type": "code",
   "execution_count": 36,
   "id": "74ac598a",
   "metadata": {},
   "outputs": [
    {
     "name": "stdout",
     "output_type": "stream",
     "text": [
      "[  5  10 -20]  ==> Returns: [5 10 -20] because 15-10=5, 25-15=10, and 5-25=-20\n"
     ]
    }
   ],
   "source": [
    "arr19 = np.array([10, 15, 25, 5])\n",
    "\n",
    "newarr9 = np.diff(arr19)\n",
    "\n",
    "print(newarr9, \" ==> Returns: [5 10 -20] because 15-10=5, 25-15=10, and 5-25=-20\") "
   ]
  },
  {
   "cell_type": "markdown",
   "id": "bec192b1",
   "metadata": {},
   "source": [
    "We can perform this operation repeatedly by giving parameter n.\n",
    "E.g. for [1, 2, 3, 4], the discrete difference with n = 2 would be [2-1, 3-2, 4-3] = [1, 1, 1] , then, since n=2, we will do it once more, with the new result: [1-1, 1-1] = [0, 0] "
   ]
  },
  {
   "cell_type": "code",
   "execution_count": 38,
   "id": "1066974b",
   "metadata": {},
   "outputs": [
    {
     "name": "stdout",
     "output_type": "stream",
     "text": [
      "[  5 -30]  ==> Returns: [5 -30] because: 15-10=5, 25-15=10, and 5-25=-20 AND 10-5=5 and -20-10=-30\n"
     ]
    }
   ],
   "source": [
    "arr20 = np.array([10, 15, 25, 5])\n",
    "\n",
    "newarr10 = np.diff(arr20, n=2)\n",
    "\n",
    "print(newarr10, \" ==> Returns: [5 -30] because: 15-10=5, 25-15=10, and 5-25=-20 AND 10-5=5 and -20-10=-30\") "
   ]
  },
  {
   "cell_type": "markdown",
   "id": "34446b6a",
   "metadata": {},
   "source": [
    "# Finding LCM (Lowest Common Multiple)"
   ]
  },
  {
   "cell_type": "code",
   "execution_count": 39,
   "id": "5cfacc74",
   "metadata": {},
   "outputs": [
    {
     "name": "stdout",
     "output_type": "stream",
     "text": [
      "12\n"
     ]
    }
   ],
   "source": [
    "num1 = 4\n",
    "num2 = 6\n",
    "\n",
    "x3 = np.lcm(num1, num2)\n",
    "\n",
    "print(x3)"
   ]
  },
  {
   "cell_type": "markdown",
   "id": "a8899007",
   "metadata": {},
   "source": [
    "To find the Lowest Common Multiple of all values in an array, you can use the reduce() method.\n",
    "The reduce() method will use the ufunc, in this case the lcm() function, on each element, and reduce the array by one dimension."
   ]
  },
  {
   "cell_type": "code",
   "execution_count": 42,
   "id": "3771139b",
   "metadata": {},
   "outputs": [
    {
     "name": "stdout",
     "output_type": "stream",
     "text": [
      "18 <== x4\n",
      "[ 1  2  3  4  5  6  7  8  9 10] <== arr22\n",
      "2520 <== x5\n"
     ]
    }
   ],
   "source": [
    "arr21 = np.array([3, 6, 9])\n",
    "\n",
    "x4 = np.lcm.reduce(arr21)\n",
    "\n",
    "print(x4, \"<== x4\") \n",
    "\n",
    "arr22 = np.arange(1, 11)\n",
    "print(arr22, \"<== arr22\")\n",
    "x5 = np.lcm.reduce(arr22)\n",
    "\n",
    "print(x5, \"<== x5\") "
   ]
  },
  {
   "cell_type": "markdown",
   "id": "aa6b480b",
   "metadata": {},
   "source": [
    "# Finding GCD (Greatest Common Denominator)"
   ]
  },
  {
   "cell_type": "markdown",
   "id": "1cb6fb66",
   "metadata": {},
   "source": [
    "Also known as HCF(highest commong factor)"
   ]
  },
  {
   "cell_type": "code",
   "execution_count": 44,
   "id": "08467d7b",
   "metadata": {},
   "outputs": [
    {
     "name": "stdout",
     "output_type": "stream",
     "text": [
      "3\n",
      "1\n"
     ]
    }
   ],
   "source": [
    "num3 = 6\n",
    "num4 = 9\n",
    "\n",
    "x6 = np.gcd(num3, num4)\n",
    "\n",
    "print(x6) \n",
    "\n",
    "num5 = 7\n",
    "num6 = 6\n",
    "\n",
    "x7 = np.gcd(num5, num6)\n",
    "\n",
    "print(x7)"
   ]
  },
  {
   "cell_type": "markdown",
   "id": "3d8a4130",
   "metadata": {},
   "source": [
    "The reduce() method will use the ufunc, in this case the gcd() function, on each element, and reduce the array by one dimension."
   ]
  },
  {
   "cell_type": "code",
   "execution_count": 45,
   "id": "3e41c6fa",
   "metadata": {},
   "outputs": [
    {
     "name": "stdout",
     "output_type": "stream",
     "text": [
      "4\n"
     ]
    }
   ],
   "source": [
    "arr23 = np.array([20, 8, 32, 36, 16])\n",
    "\n",
    "x8 = np.gcd.reduce(arr23)\n",
    "\n",
    "print(x8) "
   ]
  },
  {
   "cell_type": "markdown",
   "id": "bfb1d3ec",
   "metadata": {},
   "source": [
    "# Trigonometric Functions"
   ]
  },
  {
   "cell_type": "markdown",
   "id": "cf63519b",
   "metadata": {},
   "source": [
    "NumPy provides the ufuncs sin(), cos() and tan() that take values in radians and produce the corresponding sin, cos and tan values."
   ]
  },
  {
   "cell_type": "code",
   "execution_count": 46,
   "id": "cb6ffee3",
   "metadata": {},
   "outputs": [
    {
     "name": "stdout",
     "output_type": "stream",
     "text": [
      "1.0\n"
     ]
    }
   ],
   "source": [
    "# sin of PI/2\n",
    "x9 = np.sin(np.pi/2)\n",
    "\n",
    "print(x9) "
   ]
  },
  {
   "cell_type": "code",
   "execution_count": 47,
   "id": "fd6e1542",
   "metadata": {},
   "outputs": [
    {
     "name": "stdout",
     "output_type": "stream",
     "text": [
      "[1.         0.8660254  0.70710678 0.58778525]\n"
     ]
    }
   ],
   "source": [
    "arr22 = np.array([np.pi/2, np.pi/3, np.pi/4, np.pi/5])\n",
    "\n",
    "x10 = np.sin(arr22)\n",
    "\n",
    "print(x10) "
   ]
  },
  {
   "cell_type": "markdown",
   "id": "054e3303",
   "metadata": {},
   "source": [
    "Converting degrees into radians"
   ]
  },
  {
   "cell_type": "code",
   "execution_count": 48,
   "id": "1f7ea0e6",
   "metadata": {},
   "outputs": [
    {
     "name": "stdout",
     "output_type": "stream",
     "text": [
      "[1.57079633 3.14159265 4.71238898 6.28318531]\n"
     ]
    }
   ],
   "source": [
    "arr23 = np.array([90, 180, 270, 360])\n",
    "\n",
    "x11 = np.deg2rad(arr23)\n",
    "\n",
    "print(x11) "
   ]
  },
  {
   "cell_type": "markdown",
   "id": "0b610716",
   "metadata": {},
   "source": [
    "Converting radians into degrees"
   ]
  },
  {
   "cell_type": "code",
   "execution_count": 49,
   "id": "4ef26a73",
   "metadata": {},
   "outputs": [
    {
     "name": "stdout",
     "output_type": "stream",
     "text": [
      "[ 90. 180. 270. 360.]\n"
     ]
    }
   ],
   "source": [
    "arr24 = np.array([np.pi/2, np.pi, 1.5*np.pi, 2*np.pi])\n",
    "\n",
    "x12 = np.rad2deg(arr24)\n",
    "\n",
    "print(x12) "
   ]
  },
  {
   "cell_type": "markdown",
   "id": "fe1369bf",
   "metadata": {},
   "source": [
    "Finding angles"
   ]
  },
  {
   "cell_type": "markdown",
   "id": "2369c0d8",
   "metadata": {},
   "source": [
    "NumPy provides ufuncs arcsin(), arccos() and arctan() that produce radian values for corresponding sin, cos and tan values given."
   ]
  },
  {
   "cell_type": "code",
   "execution_count": 50,
   "id": "364141c9",
   "metadata": {},
   "outputs": [
    {
     "name": "stdout",
     "output_type": "stream",
     "text": [
      "1.5707963267948966\n"
     ]
    }
   ],
   "source": [
    "x13 = np.arcsin(1.0)\n",
    "\n",
    "print(x13) "
   ]
  },
  {
   "cell_type": "code",
   "execution_count": 51,
   "id": "4a19df21",
   "metadata": {},
   "outputs": [
    {
     "name": "stdout",
     "output_type": "stream",
     "text": [
      "[ 1.57079633 -1.57079633  0.10016742]\n"
     ]
    }
   ],
   "source": [
    "arr25 = np.array([1, -1, 0.1])\n",
    "\n",
    "x14 = np.arcsin(arr25)\n",
    "\n",
    "print(x14) "
   ]
  },
  {
   "cell_type": "markdown",
   "id": "c193fecf",
   "metadata": {},
   "source": [
    "Hypotenues"
   ]
  },
  {
   "cell_type": "code",
   "execution_count": 52,
   "id": "09cd48ac",
   "metadata": {},
   "outputs": [
    {
     "name": "stdout",
     "output_type": "stream",
     "text": [
      "5.0\n"
     ]
    }
   ],
   "source": [
    "base = 3\n",
    "perp = 4\n",
    "\n",
    "x15 = np.hypot(base, perp)\n",
    "\n",
    "print(x15) "
   ]
  },
  {
   "cell_type": "markdown",
   "id": "773934b6",
   "metadata": {},
   "source": [
    "# Hyperbolic Functions"
   ]
  },
  {
   "cell_type": "markdown",
   "id": "5ab69fd8",
   "metadata": {},
   "source": [
    "NumPy provides the ufuncs sinh(), cosh() and tanh() that take values in radians and produce the corresponding sinh, cosh and tanh values.."
   ]
  },
  {
   "cell_type": "code",
   "execution_count": 53,
   "id": "44836700",
   "metadata": {},
   "outputs": [
    {
     "name": "stdout",
     "output_type": "stream",
     "text": [
      "2.3012989023072947\n"
     ]
    }
   ],
   "source": [
    "x16 = np.sinh(np.pi/2)\n",
    "\n",
    "print(x16) "
   ]
  },
  {
   "cell_type": "code",
   "execution_count": 54,
   "id": "7d8a5b39",
   "metadata": {},
   "outputs": [
    {
     "name": "stdout",
     "output_type": "stream",
     "text": [
      "[2.50917848 1.60028686 1.32460909 1.20397209]\n"
     ]
    }
   ],
   "source": [
    "arr26 = np.array([np.pi/2, np.pi/3, np.pi/4, np.pi/5])\n",
    "\n",
    "x17 = np.cosh(arr26)\n",
    "\n",
    "print(x17) "
   ]
  },
  {
   "cell_type": "markdown",
   "id": "5da6f0cf",
   "metadata": {},
   "source": [
    "Finding Angles"
   ]
  },
  {
   "cell_type": "markdown",
   "id": "21ea42ba",
   "metadata": {},
   "source": [
    "Finding angles from values of hyperbolic sine, cos, tan. E.g. sinh, cosh and tanh inverse (arcsinh, arccosh, arctanh).\n",
    "\n",
    "Numpy provides ufuncs arcsinh(), arccosh() and arctanh() that produce radian values for corresponding sinh, cosh and tanh values given."
   ]
  },
  {
   "cell_type": "code",
   "execution_count": 55,
   "id": "d6e13817",
   "metadata": {},
   "outputs": [
    {
     "name": "stdout",
     "output_type": "stream",
     "text": [
      "0.881373587019543\n"
     ]
    }
   ],
   "source": [
    "x18 = np.arcsinh(1.0)\n",
    "\n",
    "print(x18) "
   ]
  },
  {
   "cell_type": "code",
   "execution_count": 56,
   "id": "db504d09",
   "metadata": {},
   "outputs": [
    {
     "name": "stdout",
     "output_type": "stream",
     "text": [
      "[0.10033535 0.20273255 0.54930614]\n"
     ]
    }
   ],
   "source": [
    "arr27 = np.array([0.1, 0.2, 0.5])\n",
    "\n",
    "x18 = np.arctanh(arr27)\n",
    "\n",
    "print(x18) "
   ]
  },
  {
   "cell_type": "markdown",
   "id": "f726b7c3",
   "metadata": {},
   "source": [
    "# NumPy Set Operations"
   ]
  },
  {
   "cell_type": "markdown",
   "id": "53562e23",
   "metadata": {},
   "source": [
    "A set in mathematics is a collection of unique elements.\n",
    "\n",
    "Sets are used for operations involving frequent intersection, union and difference operations."
   ]
  },
  {
   "cell_type": "markdown",
   "id": "be1b7a2b",
   "metadata": {},
   "source": [
    "We can use NumPy's unique() method to find unique elements from any array. E.g. create a set array, but remember that the set arrays should only be 1-D arrays."
   ]
  },
  {
   "cell_type": "code",
   "execution_count": 57,
   "id": "b9f4f99c",
   "metadata": {},
   "outputs": [
    {
     "name": "stdout",
     "output_type": "stream",
     "text": [
      "[1 2 3 4 5 6 7]\n"
     ]
    }
   ],
   "source": [
    "arr28 = np.array([1, 1, 1, 2, 3, 4, 5, 5, 6, 7])\n",
    "\n",
    "x19 = np.unique(arr28)\n",
    "\n",
    "print(x19) "
   ]
  },
  {
   "cell_type": "markdown",
   "id": "2c0dccf1",
   "metadata": {},
   "source": [
    "To find the unique values of two arrays, use the union1d() method"
   ]
  },
  {
   "cell_type": "code",
   "execution_count": 58,
   "id": "6954efa8",
   "metadata": {},
   "outputs": [
    {
     "name": "stdout",
     "output_type": "stream",
     "text": [
      "[1 2 3 4 5 6]\n"
     ]
    }
   ],
   "source": [
    "arr29 = np.array([1, 2, 3, 4])\n",
    "arr30 = np.array([3, 4, 5, 6])\n",
    "\n",
    "newarr10 = np.union1d(arr29, arr30)\n",
    "\n",
    "print(newarr10) "
   ]
  },
  {
   "cell_type": "markdown",
   "id": "5632ef2a",
   "metadata": {},
   "source": [
    "To find only the values that are present in both arrays, use the intersect1d() method."
   ]
  },
  {
   "cell_type": "code",
   "execution_count": 59,
   "id": "6ce3162f",
   "metadata": {},
   "outputs": [
    {
     "name": "stdout",
     "output_type": "stream",
     "text": [
      "[3 4]\n"
     ]
    }
   ],
   "source": [
    "arr31 = np.array([1, 2, 3, 4])\n",
    "arr32 = np.array([3, 4, 5, 6])\n",
    "\n",
    "newarr11 = np.intersect1d(arr31, arr32, assume_unique=True)\n",
    "\n",
    "print(newarr11) "
   ]
  },
  {
   "cell_type": "markdown",
   "id": "882a58bf",
   "metadata": {},
   "source": [
    "Note: the intersect1d() method takes an optional argument assume_unique, which if set to True can speed up computation. It should always be set to True when dealing with sets."
   ]
  },
  {
   "cell_type": "markdown",
   "id": "90b8942e",
   "metadata": {},
   "source": [
    "To find only the values in the first set that is NOT present in the seconds set, use the setdiff1d() method."
   ]
  },
  {
   "cell_type": "code",
   "execution_count": 62,
   "id": "d579c427",
   "metadata": {},
   "outputs": [
    {
     "name": "stdout",
     "output_type": "stream",
     "text": [
      "[1 2] <== these are the values not present in the second array\n"
     ]
    }
   ],
   "source": [
    "set1 = np.array([1, 2, 3, 4])\n",
    "set2 = np.array([3, 4, 5, 6])\n",
    "\n",
    "newarr12 = np.setdiff1d(set1, set2, assume_unique=True)\n",
    "\n",
    "\n",
    "print(newarr12, \"<== these are the values not present in the second array\") "
   ]
  },
  {
   "cell_type": "markdown",
   "id": "f4345c17",
   "metadata": {},
   "source": [
    "***Note***: the setdiff1d() method takes an optional argument assume_unique, which if set to True can speed up computation. It should always be set to True when dealing with sets."
   ]
  },
  {
   "cell_type": "markdown",
   "id": "687394d3",
   "metadata": {},
   "source": [
    "Finding Symmetric Difference"
   ]
  },
  {
   "cell_type": "markdown",
   "id": "c53a95e2",
   "metadata": {},
   "source": [
    "To find only the values that are NOT present in BOTH sets, use the setxor1d() method."
   ]
  },
  {
   "cell_type": "code",
   "execution_count": 63,
   "id": "415b144c",
   "metadata": {},
   "outputs": [
    {
     "name": "stdout",
     "output_type": "stream",
     "text": [
      "[1 2 5 6]\n"
     ]
    }
   ],
   "source": [
    "newarr13 = np.setxor1d(set1, set2, assume_unique=True)\n",
    "\n",
    "print(newarr13) "
   ]
  },
  {
   "cell_type": "markdown",
   "id": "35d9a2b3",
   "metadata": {},
   "source": [
    "***Note***: the setxor1d() method takes an optional argument assume_unique, which if set to True can speed up computation. It should always be set to True when dealing with sets."
   ]
  },
  {
   "cell_type": "code",
   "execution_count": null,
   "id": "23890c3c",
   "metadata": {},
   "outputs": [],
   "source": []
  }
 ],
 "metadata": {
  "kernelspec": {
   "display_name": "Python 3",
   "language": "python",
   "name": "python3"
  },
  "language_info": {
   "codemirror_mode": {
    "name": "ipython",
    "version": 3
   },
   "file_extension": ".py",
   "mimetype": "text/x-python",
   "name": "python",
   "nbconvert_exporter": "python",
   "pygments_lexer": "ipython3",
   "version": "3.8.8"
  }
 },
 "nbformat": 4,
 "nbformat_minor": 5
}
