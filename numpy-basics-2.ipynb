{
 "cells": [
  {
   "cell_type": "code",
   "execution_count": 7,
   "id": "8059ea5e",
   "metadata": {},
   "outputs": [
    {
     "name": "stdout",
     "output_type": "stream",
     "text": [
      "[ 1  2  3  4  5  6  7  8  9 10 11 12]\n",
      "1\n",
      "2\n",
      "3\n",
      "4\n",
      "5\n",
      "6\n",
      "7\n",
      "8\n",
      "9\n",
      "10\n",
      "11\n",
      "12\n",
      "1\n",
      "2\n",
      "3\n",
      "4\n",
      "5\n",
      "6\n",
      "1\n",
      "2\n",
      "3\n",
      "4\n",
      "5\n",
      "6\n",
      "7\n",
      "8\n",
      "9\n",
      "10\n",
      "11\n",
      "12\n"
     ]
    }
   ],
   "source": [
    "import numpy as np\n",
    "\n",
    "arr = np.array([1, 2, 3, 4, 5, 6, 7, 8, 9, 10, 11, 12])\n",
    "newarr = arr.reshape(-1)\n",
    "print(newarr)\n",
    "\n",
    "for x in arr:\n",
    "  print(x) \n",
    "\n",
    "arr2 = np.array([[1, 2, 3], [4, 5, 6]])\n",
    "for x in arr2:\n",
    "    for y in x:\n",
    "      print(y)\n",
    "    \n",
    "arr3 = np.array([[[1, 2, 3], [4, 5, 6]], [[7, 8, 9], [10, 11, 12]]])\n",
    "\n",
    "for x in arr3:\n",
    "  for y in x:\n",
    "    for z in y:\n",
    "      print(z)"
   ]
  },
  {
   "cell_type": "code",
   "execution_count": 8,
   "id": "ecf636be",
   "metadata": {},
   "outputs": [
    {
     "name": "stdout",
     "output_type": "stream",
     "text": [
      "1\n",
      "2\n",
      "3\n",
      "4\n",
      "5\n",
      "6\n",
      "7\n",
      "8\n"
     ]
    }
   ],
   "source": [
    "arr3 = np.array([[[1, 2], [3, 4]], [[5, 6], [7, 8]]])\n",
    "# works as if it has one dimension\n",
    "for x in np.nditer(arr3):\n",
    "  print(x) \n",
    "\n"
   ]
  },
  {
   "cell_type": "code",
   "execution_count": 10,
   "id": "f75e9797",
   "metadata": {},
   "outputs": [
    {
     "name": "stdout",
     "output_type": "stream",
     "text": [
      "int32\n",
      "b'1' |S11\n",
      "b'2' |S11\n",
      "b'3' |S11\n",
      "b'4' |S11\n",
      "b'5' |S11\n",
      "b'6' |S11\n",
      "b'7' |S11\n",
      "b'8' |S11\n",
      "b'9' |S11\n",
      "b'10' |S11\n",
      "b'11' |S11\n",
      "b'12' |S11\n"
     ]
    }
   ],
   "source": [
    "# We can use op_dtypes argument and pass it the expected datatype \n",
    "# to change the datatype of elements while iterating.\n",
    "# flags=['buffered'] creates the necessary space for numpy to change the types\n",
    "arr4 = np.array([1, 2, 3])\n",
    "\n",
    "print(arr4[0].dtype)\n",
    "\n",
    "for x in np.nditer(arr, flags=['buffered'], op_dtypes=['S']):\n",
    "  print(x, x.dtype) "
   ]
  },
  {
   "cell_type": "code",
   "execution_count": 11,
   "id": "6d1a4bc3",
   "metadata": {},
   "outputs": [
    {
     "name": "stdout",
     "output_type": "stream",
     "text": [
      "1\n",
      "3\n",
      "5\n",
      "7\n"
     ]
    }
   ],
   "source": [
    "# goes through this 2D array, skipping one element\n",
    "arr5 = np.array([[1, 2, 3, 4], [5, 6, 7, 8]])\n",
    "\n",
    "for x in np.nditer(arr5[:, ::2]):\n",
    "  print(x) "
   ]
  },
  {
   "cell_type": "code",
   "execution_count": 13,
   "id": "829af7b2",
   "metadata": {},
   "outputs": [
    {
     "name": "stdout",
     "output_type": "stream",
     "text": [
      "(0,) 1\n",
      "(1,) 2\n",
      "(2,) 3\n",
      "(0, 0) 1\n",
      "(0, 1) 2\n",
      "(0, 2) 3\n",
      "(0, 3) 4\n",
      "(1, 0) 5\n",
      "(1, 1) 6\n",
      "(1, 2) 7\n",
      "(1, 3) 8\n"
     ]
    }
   ],
   "source": [
    "# this for enumerating the elements in the array (np.ndenumerate())\n",
    "arr6 = np.array([1, 2, 3])\n",
    "arr7 = np.array([[1, 2, 3, 4], [5, 6, 7, 8]])\n",
    "\n",
    "for idx, x in np.ndenumerate(arr6):\n",
    "  print(idx, x)\n",
    "# dimesions are also shown like this\n",
    "for idx, x in np.ndenumerate(arr7):\n",
    "  print(idx, x) "
   ]
  },
  {
   "cell_type": "code",
   "execution_count": 15,
   "id": "f98bc900",
   "metadata": {},
   "outputs": [
    {
     "name": "stdout",
     "output_type": "stream",
     "text": [
      "[1 2 3 4 5 6]\n"
     ]
    }
   ],
   "source": [
    "# in NumPy we join arrays by axes, if not given \"axis=0\"\n",
    "arr8 = np.array([1, 2, 3])\n",
    "\n",
    "arr9 = np.array([4, 5, 6])\n",
    "\n",
    "arr10 = np.concatenate((arr8, arr9))\n",
    "\n",
    "print(arr10) "
   ]
  },
  {
   "cell_type": "code",
   "execution_count": 22,
   "id": "a107f896",
   "metadata": {},
   "outputs": [
    {
     "name": "stdout",
     "output_type": "stream",
     "text": [
      "[[1 2 5 6]\n",
      " [3 4 7 8]]\n",
      "[[1 2]\n",
      " [3 4]\n",
      " [5 6]\n",
      " [7 8]]\n"
     ]
    }
   ],
   "source": [
    "arr11 = np.array([[1, 2], [3, 4]])\n",
    "\n",
    "arr12 = np.array([[5, 6], [7, 8]])\n",
    "\n",
    "# concatenation is happening deeper as the axis grow\n",
    "\n",
    "arr13 = np.concatenate((arr11, arr12), axis=1)\n",
    "arr14 = np.concatenate((arr11, arr12))\n",
    "print(arr13)\n",
    "print(arr14)"
   ]
  },
  {
   "cell_type": "code",
   "execution_count": 33,
   "id": "cb7bec98",
   "metadata": {},
   "outputs": [
    {
     "name": "stdout",
     "output_type": "stream",
     "text": [
      "[[1 4]\n",
      " [2 5]\n",
      " [3 6]]\n",
      "[[1 2 3]\n",
      " [4 5 6]]\n",
      "hstack\n",
      "[1 2 3 4 5 6]\n",
      "vstack\n",
      "[[1 2 3]\n",
      " [4 5 6]]\n",
      "dstack\n",
      "[[[1 4]\n",
      "  [2 5]\n",
      "  [3 6]]]\n"
     ]
    }
   ],
   "source": [
    "# Stacking is same as concatenation, the only difference is that stacking is done along a new axis.\n",
    "\n",
    "arr15 = np.array([1, 2, 3])\n",
    "\n",
    "arr16 = np.array([4, 5, 6])\n",
    "\n",
    "arr17 = np.stack((arr15, arr16), axis=1)\n",
    "arr18 = np.stack((arr15, arr16))\n",
    "\n",
    "print(arr17) \n",
    "print(arr18)\n",
    "\n",
    "# NumPy provides a helper function: hstack() to stack along rows.\n",
    "\n",
    "arr19 = np.hstack((arr15, arr16))\n",
    "print('hstack')\n",
    "print(arr19)\n",
    "\n",
    "# NumPy provides a helper function: vstack()  to stack along columns.\n",
    "\n",
    "arr20 = np.vstack((arr15, arr16))\n",
    "print('vstack')\n",
    "print(arr20)\n",
    "\n",
    "# NumPy provides a helper function: dstack() to stack along height, which is the same as depth.\n",
    "arr21 = np.dstack((arr15, arr16))\n",
    "print('dstack')\n",
    "print(arr21)"
   ]
  },
  {
   "cell_type": "code",
   "execution_count": 42,
   "id": "6f1ae64b",
   "metadata": {},
   "outputs": [
    {
     "name": "stdout",
     "output_type": "stream",
     "text": [
      "[array([1, 2, 3]), array([4, 5, 6])] ==> newarr2\n",
      "[array([1, 2]), array([3, 4]), array([5, 6])] ==> newarr3\n",
      "[array([1, 2]), array([3, 4]), array([5]), array([6])] ==> newarr4\n",
      "==> accessing the elements after split <==\n",
      "[1 2] first\n",
      "[3 4] second\n",
      "[5 6] third\n"
     ]
    }
   ],
   "source": [
    "# Splitting\n",
    "arr22 = np.array([1, 2, 3, 4, 5, 6])\n",
    "\n",
    "newarr2 = np.array_split(arr22, 2)\n",
    "newarr3 = np.array_split(arr22, 3)\n",
    "newarr4 = np.array_split(arr22, 4)\n",
    "\n",
    "print(newarr2, '==> newarr2')\n",
    "print(newarr3, '==> newarr3') \n",
    "# If the array has less elements than required, it will adjust from the end accordingly. \n",
    "# split() method would fail here\n",
    "print(newarr4, '==> newarr4') \n",
    "print('==> accessing the elements after split <==')\n",
    "print(newarr3[0], 'first')\n",
    "print(newarr3[1], 'second')\n",
    "print(newarr3[2], 'third') "
   ]
  },
  {
   "cell_type": "code",
   "execution_count": 51,
   "id": "769a48ae",
   "metadata": {},
   "outputs": [
    {
     "name": "stdout",
     "output_type": "stream",
     "text": [
      "[array([[1, 2],\n",
      "       [3, 4]]), array([[5, 6],\n",
      "       [7, 8]]), array([[ 9, 10],\n",
      "       [11, 12]])]\n",
      "==> 2d array to 3 2d arrays <==\n",
      "[array([[1, 2, 3],\n",
      "       [4, 5, 6]]), array([[ 7,  8,  9],\n",
      "       [10, 11, 12]]), array([[13, 14, 15],\n",
      "       [16, 17, 18]])]\n",
      "==> axis=1 here <==\n",
      "[array([[ 1],\n",
      "       [ 4],\n",
      "       [ 7],\n",
      "       [10],\n",
      "       [13],\n",
      "       [16]]), array([[ 2],\n",
      "       [ 5],\n",
      "       [ 8],\n",
      "       [11],\n",
      "       [14],\n",
      "       [17]]), array([[ 3],\n",
      "       [ 6],\n",
      "       [ 9],\n",
      "       [12],\n",
      "       [15],\n",
      "       [18]])]\n"
     ]
    }
   ],
   "source": [
    "arr23 = np.array([[1, 2], [3, 4], [5, 6], [7, 8], [9, 10], [11, 12]])\n",
    "\n",
    "newarr5 = np.array_split(arr23, 3)\n",
    "\n",
    "print(newarr5)\n",
    "print('==> 2d array to 3 2d arrays <==')\n",
    "arr24 = np.array([[1, 2, 3], [4, 5, 6], [7, 8, 9], [10, 11, 12], [13, 14, 15], [16, 17, 18]])\n",
    "\n",
    "newarr6 = np.array_split(arr24, 3)\n",
    "\n",
    "print(newarr6) \n",
    "\n",
    "# Split the 2-D array into three 2-D arrays along rows.\n",
    "\n",
    "print('==> axis=1 here <==')\n",
    "newarr7 = np.array_split(arr24, 3, axis=1)\n",
    "print(newarr7)"
   ]
  },
  {
   "cell_type": "code",
   "execution_count": 55,
   "id": "59082d15",
   "metadata": {},
   "outputs": [
    {
     "name": "stdout",
     "output_type": "stream",
     "text": [
      "[array([[ 1],\n",
      "       [ 4],\n",
      "       [ 7],\n",
      "       [10],\n",
      "       [13],\n",
      "       [16]]), array([[ 2],\n",
      "       [ 5],\n",
      "       [ 8],\n",
      "       [11],\n",
      "       [14],\n",
      "       [17]]), array([[ 3],\n",
      "       [ 6],\n",
      "       [ 9],\n",
      "       [12],\n",
      "       [15],\n",
      "       [18]])]\n"
     ]
    }
   ],
   "source": [
    "# Use the hsplit() method to split the 2-D array into three 2-D arrays along rows.\n",
    "\n",
    "arr25 = np.array([[1, 2, 3], [4, 5, 6], [7, 8, 9], [10, 11, 12], [13, 14, 15], [16, 17, 18]])\n",
    "\n",
    "newarr7 = np.hsplit(arr25, 3)\n",
    "\n",
    "print(newarr7) "
   ]
  },
  {
   "cell_type": "code",
   "execution_count": 61,
   "id": "cb1ff9c5",
   "metadata": {},
   "outputs": [
    {
     "name": "stdout",
     "output_type": "stream",
     "text": [
      "(array([3, 5, 6], dtype=int64),)\n",
      "even ==> (array([1, 3, 5, 6], dtype=int64),) odd ==> (array([0, 2, 4], dtype=int64),)\n"
     ]
    }
   ],
   "source": [
    "# To search an array, use the where() method.\n",
    "arr26 = np.array([1, 2, 3, 4, 5, 4, 4])\n",
    "\n",
    "x = np.where(arr26 == 4)\n",
    "print(x)\n",
    "\n",
    "x2 = np.where(arr26%2 == 0)\n",
    "x3 = np.where(arr26%2 == 1)\n",
    "\n",
    "print(\"even ==>\",x2, \"odd ==>\",x3)"
   ]
  },
  {
   "cell_type": "code",
   "execution_count": 64,
   "id": "db6750e7",
   "metadata": {},
   "outputs": [
    {
     "name": "stdout",
     "output_type": "stream",
     "text": [
      "==> search from left, dby default <==\n",
      "1\n",
      "==> search from right <==\n",
      "2\n"
     ]
    }
   ],
   "source": [
    "# The searchsorted() method is assumed to be used on sorted arrays.\n",
    "# Starts from left and returns the index when the given value is no longer larger than the next value\n",
    "print('==> search from left, dby default <==')\n",
    "arr27 = np.array([6, 7, 8, 9])\n",
    "\n",
    "x4 = np.searchsorted(arr27, 7)\n",
    "print(x4)\n",
    "# we can give side='right' to return the right most index instead, return when it's no longer less than the next value\n",
    "print('==> search from right <==')\n",
    "x5 = np.searchsorted(arr27, 7, side='right')\n",
    "print(x5)"
   ]
  },
  {
   "cell_type": "code",
   "execution_count": 72,
   "id": "5c9f6b4c",
   "metadata": {},
   "outputs": [
    {
     "name": "stdout",
     "output_type": "stream",
     "text": [
      "[3 2 0 1] ==> the original remains unchanged\n",
      "[0 1 2 3] ==> sort makes a copy\n",
      "['apple' 'banana' 'cherry'] ==> sorting alphabetically\n",
      "[False  True  True] ==> sorting boolean\n",
      "[[2 3 4]\n",
      " [0 1 5]] ==> sorting 2d arrays, works like a charm\n"
     ]
    }
   ],
   "source": [
    "# Sorting, this method returns a copy of the array, leaving the original array unchanged.\n",
    "arr28 = np.array([3, 2, 0, 1])\n",
    "newarr8 = np.sort(arr28)\n",
    "print(arr28, '==> the original remains unchanged') \n",
    "print(newarr8, '==> sort makes a copy') \n",
    "\n",
    "arr29 = np.array(['banana', 'cherry', 'apple'])\n",
    "\n",
    "print(np.sort(arr29), \"==> sorting alphabetically\")\n",
    "\n",
    "arr30 = np.array([True, False, True])\n",
    "\n",
    "print(np.sort(arr30), \"==> sorting boolean\") \n",
    "\n",
    "arr31 = np.array([[3, 2, 4], [5, 0, 1]])\n",
    "\n",
    "print(np.sort(arr31), \"==> sorting 2d arrays, works like a charm\") "
   ]
  },
  {
   "cell_type": "code",
   "execution_count": 83,
   "id": "e1e8f698",
   "metadata": {},
   "outputs": [
    {
     "name": "stdout",
     "output_type": "stream",
     "text": [
      "[41 43]\n",
      "[False, False, True, True] ==> filter_arr\n",
      "[43 44] ==> newarr10\n",
      "[False, True, False, True] [41 42 43 44]\n",
      "[42 44]\n"
     ]
    }
   ],
   "source": [
    "# Filtering\n",
    "# If the value at an index is True that element is contained in the filtered array,\n",
    "# if the value at that index is False that element is excluded from the filtered array.\n",
    "arr32 = np.array([41, 42, 43, 44])\n",
    "# hardcoding\n",
    "x6 = [True, False, True, False]\n",
    "# array[filter]\n",
    "newarr9 = arr32[x6]\n",
    "\n",
    "print(newarr9) \n",
    "\n",
    "# Create an empty list\n",
    "filter_arr = []\n",
    "\n",
    "# go through each element in arr\n",
    "for element in arr32:\n",
    "    \n",
    "  # if the element is higher than 42, set the value to True, otherwise False:\n",
    "  if element > 42:\n",
    "        \n",
    "    filter_arr.append(True)\n",
    "  else:\n",
    "    filter_arr.append(False)\n",
    "\n",
    "newarr10 = arr32[filter_arr]\n",
    "\n",
    "print(filter_arr, \"==> filter_arr\")\n",
    "print(newarr10, \"==> newarr10\")\n",
    "\n",
    "\n",
    "filter_arr2 = []\n",
    "\n",
    "for element in arr32:\n",
    "  if element % 2 == 0:\n",
    "    filter_arr2.append(True)\n",
    "  else:\n",
    "    filter_arr2.append(False)\n",
    "    \n",
    "newarr11 = arr32[filter_arr2]\n",
    "\n",
    "print(filter_arr2, arr32)\n",
    "print(newarr11)"
   ]
  },
  {
   "cell_type": "code",
   "execution_count": 86,
   "id": "0b38465a",
   "metadata": {},
   "outputs": [
    {
     "name": "stdout",
     "output_type": "stream",
     "text": [
      "[False False  True  True] filter_arr\n",
      "[43 44] newarr\n",
      "[False  True False  True False  True False]\n",
      "[2 4 6]\n"
     ]
    }
   ],
   "source": [
    "# directly filtering the array\n",
    "\n",
    "arr33 = np.array([41, 42, 43, 44])\n",
    "\n",
    "filter_arr3 = arr33 > 42\n",
    "\n",
    "newarr12 = arr33[filter_arr3]\n",
    "\n",
    "print(filter_arr3, \"filter_arr\")\n",
    "print(newarr12, \"newarr\") \n",
    "\n",
    "# another direct filtering example\n",
    "\n",
    "arr34 = np.array([1, 2, 3, 4, 5, 6, 7])\n",
    "\n",
    "filter_arr4 = arr34 % 2 == 0\n",
    "\n",
    "newarr13 = arr34[filter_arr4]\n",
    "\n",
    "print(filter_arr4)\n",
    "print(newarr13) "
   ]
  },
  {
   "cell_type": "code",
   "execution_count": null,
   "id": "578d0106",
   "metadata": {},
   "outputs": [],
   "source": []
  }
 ],
 "metadata": {
  "kernelspec": {
   "display_name": "Python 3",
   "language": "python",
   "name": "python3"
  },
  "language_info": {
   "codemirror_mode": {
    "name": "ipython",
    "version": 3
   },
   "file_extension": ".py",
   "mimetype": "text/x-python",
   "name": "python",
   "nbconvert_exporter": "python",
   "pygments_lexer": "ipython3",
   "version": "3.8.8"
  }
 },
 "nbformat": 4,
 "nbformat_minor": 5
}
