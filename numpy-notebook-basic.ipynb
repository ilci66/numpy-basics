{
 "cells": [
  {
   "cell_type": "code",
   "execution_count": 8,
   "id": "536984f0",
   "metadata": {},
   "outputs": [
    {
     "name": "stdout",
     "output_type": "stream",
     "text": [
      "int32\n",
      "<U6 ==> U - unicode string\n",
      "[b'1' b'2' b'3' b'4']\n",
      "|S1  ==> S - string\n"
     ]
    }
   ],
   "source": [
    "import numpy as np\n",
    "\n",
    "arr = np.array([1, 2, 3, 4, 5, 6, 7, 8, 9])\n",
    "arr2 = np.array(['apple', 'banana', 'cherry'])\n",
    "arr3 = np.array([1, 2, 3, 4], dtype='S')\n",
    "\n",
    "\n",
    "\n",
    "print(arr.dtype) \n",
    "print(arr2.dtype, \"==> U - unicode string\") \n",
    "print(arr3)\n",
    "print(arr3.dtype, \" ==> S - string\")"
   ]
  },
  {
   "cell_type": "code",
   "execution_count": 13,
   "id": "33da74c8",
   "metadata": {},
   "outputs": [
    {
     "name": "stdout",
     "output_type": "stream",
     "text": [
      "The size you define expected data type,you can asl match the array you define it for in size\n",
      "[1 2 3 4]\n",
      "int32\n"
     ]
    }
   ],
   "source": [
    "import numpy as np\n",
    "\n",
    "arr4 = np.array([1, 2, 3, 4], dtype='i4')\n",
    "print(\"The size you define expected data type,you can also match the array you define it for in size\")\n",
    "print(arr4)\n",
    "print(arr4.dtype) "
   ]
  },
  {
   "cell_type": "code",
   "execution_count": 20,
   "id": "7218288a",
   "metadata": {},
   "outputs": [
    {
     "name": "stdout",
     "output_type": "stream",
     "text": [
      "[1.1 2.1 3.1] float64\n",
      "[1 2 3] int32\n",
      "[1 2 3] int32\n",
      "[ True  True  True] int32\n"
     ]
    }
   ],
   "source": [
    "# i - integer\n",
    "# b - boolean\n",
    "# u - unsigned integer\n",
    "# f - float\n",
    "# c - complex float\n",
    "# m - timedelta\n",
    "# M - datetime\n",
    "# O - object\n",
    "# S - string\n",
    "# U - unicode string\n",
    "# V - fixed chunk of memory for other type ( void )\n",
    "\n",
    "# astype() for converting, dtype for when you wanna accept a certain type of data in the array \n",
    "\n",
    "arr5 = np.array([1.1, 2.1, 3.1])\n",
    "\n",
    "newarr = arr5.astype('i')\n",
    "\n",
    "newarr2 = arr5.astype(int)\n",
    "\n",
    "newarr3 = arr5.astype(bool)\n",
    "\n",
    "print(arr5, arr5.dtype)\n",
    "print(newarr, newarr.dtype)\n",
    "print(newarr2, newarr2.dtype)\n",
    "print(newarr3, newarr.dtype)"
   ]
  },
  {
   "cell_type": "code",
   "execution_count": 26,
   "id": "a87a2c47",
   "metadata": {},
   "outputs": [
    {
     "name": "stdout",
     "output_type": "stream",
     "text": [
      "[42  2  3  4  5]\n",
      "[1 2 3 4 5]\n",
      "[42  2  3  4  5]\n",
      "[42  2  3  4  5]\n",
      "[31  2  3  4  5]\n",
      "[31  2  3  4  5]\n"
     ]
    }
   ],
   "source": [
    "# copy owns the data\n",
    "arr6 = np.array([1, 2, 3, 4, 5])\n",
    "x = arr6.copy()\n",
    "arr6[0] = 42\n",
    "\n",
    "# will not affect the original data\n",
    "print(arr6)\n",
    "print(x) \n",
    "\n",
    "# view doesn't own the data\n",
    "arr7 = np.array([1, 2, 3, 4, 5])\n",
    "x2 = arr7.view()\n",
    "arr7[0] = 42\n",
    "\n",
    "# will affect the orginal data\n",
    "print(arr7)\n",
    "print(x2)\n",
    "\n",
    "# changing both by changing the original, with view \n",
    "arr8 = np.array([1, 2, 3, 4, 5])\n",
    "x3 = arr8.view()\n",
    "x3[0] = 31\n",
    "\n",
    "print(arr8)\n",
    "print(x3) "
   ]
  },
  {
   "cell_type": "code",
   "execution_count": 28,
   "id": "5b5bcc31",
   "metadata": {},
   "outputs": [
    {
     "name": "stdout",
     "output_type": "stream",
     "text": [
      "None  ==> copy, owns the data\n",
      "[31  2  3  4]  ==> view, doesn't own the data, refers to the original\n"
     ]
    }
   ],
   "source": [
    "# Every NumPy array has the attribute base that returns None if the array owns the data.\n",
    "\n",
    "# Otherwise, the base  attribute refers to the original object. \n",
    "\n",
    "arr9 = np.array([1, 2, 3, 4, 5])\n",
    "\n",
    "a = arr.copy()\n",
    "b = arr.view()\n",
    "\n",
    "print(a.base, \" ==> copy, owns the data\")\n",
    "print(b.base, \" ==> view, doesn't own the data, refers to the original\") "
   ]
  },
  {
   "cell_type": "code",
   "execution_count": 32,
   "id": "aaafc5e7",
   "metadata": {
    "scrolled": true
   },
   "outputs": [
    {
     "name": "stdout",
     "output_type": "stream",
     "text": [
      "(2, 4) 2 dimensions, each dimension has 4 elements\n"
     ]
    }
   ],
   "source": [
    "arr10 = np.array([[1, 2, 3, 4], [5, 6, 7, 8]])\n",
    "\n",
    "print(arr10.shape, \"2 dimensions, each dimension has 4 elements\") "
   ]
  },
  {
   "cell_type": "code",
   "execution_count": 35,
   "id": "c00cf3dd",
   "metadata": {
    "scrolled": true
   },
   "outputs": [
    {
     "name": "stdout",
     "output_type": "stream",
     "text": [
      "[[[[[1 2 3 4]]]]]\n",
      "shape of array : (1, 1, 1, 1, 4) apparently we can say that (4 + 1)th dimension has 4 elements for this one\n"
     ]
    }
   ],
   "source": [
    "# ndmin is used to create the 5 dimensions\n",
    "arr11 = np.array([1, 2, 3, 4], ndmin=5)\n",
    "\n",
    "print(arr11)\n",
    "print('shape of array :', arr11.shape, \"apparently we can say that (4 + 1)th dimension has 4 elements for this one\") "
   ]
  },
  {
   "cell_type": "code",
   "execution_count": 37,
   "id": "565fd20e",
   "metadata": {},
   "outputs": [
    {
     "name": "stdout",
     "output_type": "stream",
     "text": [
      "[[ 1  2  3]\n",
      " [ 4  5  6]\n",
      " [ 7  8  9]\n",
      " [10 11 12]]\n",
      "[ 1  2  3  4  5  6  7  8  9 10 11 12]\n"
     ]
    }
   ],
   "source": [
    "arr12 = np.array([1, 2, 3, 4, 5, 6, 7, 8, 9, 10, 11, 12])\n",
    "\n",
    "newarr4 = arr12.reshape(4, 3)\n",
    "\n",
    "print(newarr4)\n",
    "print(newarr4.base, \"base will return the original\")"
   ]
  },
  {
   "cell_type": "code",
   "execution_count": 38,
   "id": "16806834",
   "metadata": {},
   "outputs": [
    {
     "name": "stdout",
     "output_type": "stream",
     "text": [
      "[[[1 2]\n",
      "  [3 4]]\n",
      "\n",
      " [[5 6]\n",
      "  [7 8]]]\n"
     ]
    }
   ],
   "source": [
    "# You are allowed to have one \"unknown\" dimension.\n",
    "# Pass -1 as the value, and NumPy will calculate this number for you.\n",
    "\n",
    "arr13 = np.array([1, 2, 3, 4, 5, 6, 7, 8])\n",
    "\n",
    "newarr5 = arr13.reshape(2, 2, -1)\n",
    "\n",
    "print(newarr5) \n",
    "# We can not pass -1 to more than one dimension."
   ]
  },
  {
   "cell_type": "code",
   "execution_count": 41,
   "id": "0dc41825",
   "metadata": {},
   "outputs": [
    {
     "name": "stdout",
     "output_type": "stream",
     "text": [
      "[1 2 3 4 5 6]\n"
     ]
    }
   ],
   "source": [
    "# reshape(-1) can be used to flatten\n",
    "arr14 = np.array([[1, 2, 3], [4, 5, 6]])\n",
    "\n",
    "newarr6 = arr14.reshape(-1)\n",
    "\n",
    "print(newarr6) "
   ]
  },
  {
   "cell_type": "code",
   "execution_count": null,
   "id": "308d477e",
   "metadata": {},
   "outputs": [],
   "source": []
  }
 ],
 "metadata": {
  "kernelspec": {
   "display_name": "Python 3",
   "language": "python",
   "name": "python3"
  },
  "language_info": {
   "codemirror_mode": {
    "name": "ipython",
    "version": 3
   },
   "file_extension": ".py",
   "mimetype": "text/x-python",
   "name": "python",
   "nbconvert_exporter": "python",
   "pygments_lexer": "ipython3",
   "version": "3.8.8"
  }
 },
 "nbformat": 4,
 "nbformat_minor": 5
}
